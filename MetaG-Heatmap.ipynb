{
 "cells": [
  {
   "cell_type": "markdown",
   "metadata": {},
   "source": [
    "# MetaG-heatmap-Binder\n",
    "\n",
    "Authors: Laetitia and Guillaume\n",
    "\n",
    "Date: 2019-05-09"
   ]
  },
  {
   "cell_type": "markdown",
   "metadata": {},
   "source": [
    "## System Info"
   ]
  },
  {
   "cell_type": "code",
   "execution_count": 2,
   "metadata": {},
   "outputs": [],
   "source": [
    "knitr::opts_chunk$set(echo = TRUE)\n",
    "sessionInfo()"
   ]
  },
  {
   "cell_type": "markdown",
   "metadata": {},
   "source": [
    "## Data"
   ]
  },
  {
   "cell_type": "code",
   "execution_count": 3,
   "metadata": {},
   "outputs": [],
   "source": [
    "MAGnum <- read.delim(\"input_matrix_v1.txt\")\n",
    "rownames(MAGnum) <- MAGnum[,1]\n",
    "counts <- MAGnum[,-1]\n",
    "counts[,1]\n",
    "MAGcountsNum <- sapply(counts, as.numeric)"
   ]
  },
  {
   "cell_type": "markdown",
   "metadata": {},
   "source": [
    "## Plot"
   ]
  },
  {
   "cell_type": "code",
   "execution_count": 4,
   "metadata": {},
   "outputs": [],
   "source": [
    "MAGnum_df <- read.delim(\"input_matrix_v2.txt\") %>%\n",
    "    tibble::column_to_rownames(var = \"X\")\n",
    "\n",
    "MAGnum_mat <- MAGnum_df %>%\n",
    "    data.matrix()\n",
    "\n",
    "heatmap(MAGnum_mat)\n",
    "\n",
    "breakers <- seq(min(MAGnum_mat, na.rm = T),\n",
    "                max(MAGnum_mat, na.rm = T),\n",
    "                length.out = 51)\n",
    "\n",
    "my_palette <- colorRampPalette(c(\"red\",\"white \", \"blue\"))(n = 299)\n",
    "\n",
    "heatmap.2(MAGnum_mat,\n",
    "        distfun = function(x) dist(x, method = \"euclidean\"),\n",
    "        hclustfun = function(x) hclust(x,method = \"complete\"),\n",
    "        scale = \"row\",\n",
    "        col = my_palette,\n",
    "        #breaks = breakers,\n",
    "        trace = \"none\",\n",
    "        key = TRUE, symkey = FALSE,\n",
    "        density.info = \"none\", srtCol = 30,\n",
    "        margins=c(5.5,7), cexRow = 1.25,cexCol = 1.25,\n",
    "        key.xlab = \"MAG Abundance\",\n",
    "        #ColSideColors = colz,\n",
    "        lhei = c(1.5,9),\n",
    "        key.title=NA\n",
    "        )"
   ]
  }
 ],
 "metadata": {
  "kernelspec": {
   "display_name": "R",
   "language": "R",
   "name": "ir"
  },
  "language_info": {
   "codemirror_mode": "r",
   "file_extension": ".r",
   "mimetype": "text/x-r-source",
   "name": "R",
   "pygments_lexer": "r",
   "version": "3.4.4"
  }
 },
 "nbformat": 4,
 "nbformat_minor": 2
}
